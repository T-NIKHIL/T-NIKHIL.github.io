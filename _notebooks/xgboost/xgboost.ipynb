{
 "cells": [
  {
   "cell_type": "markdown",
   "id": "0aa905ea",
   "metadata": {},
   "source": [
    "### Introduction\n",
    "\n",
    "* XGBoost stands for Extreme Gradient Boosting.\n",
    "* Boosting is a regularization technique that takes an ensemble of weak learners (decision trees) and \n",
    "* At the heart of XGBoost are "
   ]
  }
 ],
 "metadata": {
  "kernelspec": {
   "display_name": "py3_12",
   "language": "python",
   "name": "python3"
  },
  "language_info": {
   "name": "python",
   "version": "3.12.4"
  }
 },
 "nbformat": 4,
 "nbformat_minor": 5
}
